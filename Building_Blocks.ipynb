{
  "nbformat": 4,
  "nbformat_minor": 0,
  "metadata": {
    "colab": {
      "provenance": [],
      "authorship_tag": "ABX9TyO+YXSy7fEW06CBjR8fN0Ug",
      "include_colab_link": true
    },
    "kernelspec": {
      "name": "python3",
      "display_name": "Python 3"
    },
    "language_info": {
      "name": "python"
    }
  },
  "cells": [
    {
      "cell_type": "markdown",
      "metadata": {
        "id": "view-in-github",
        "colab_type": "text"
      },
      "source": [
        "<a href=\"https://colab.research.google.com/github/bhashi-0507/bhashitha0507/blob/main/Building_Blocks.ipynb\" target=\"_parent\"><img src=\"https://colab.research.google.com/assets/colab-badge.svg\" alt=\"Open In Colab\"/></a>"
      ]
    },
    {
      "cell_type": "code",
      "execution_count": null,
      "metadata": {
        "id": "xpzsBDCP-A4g"
      },
      "outputs": [],
      "source": []
    },
    {
      "cell_type": "markdown",
      "source": [
        "**Step 1: Importing Libraries**\n",
        "The first step is to import the required libraries. We will be using the hashlib library to create a cryptographic hash of the blocks, and the datetime library to timestamp each block."
      ],
      "metadata": {
        "id": "QRPn4RDT-RL7"
      }
    },
    {
      "cell_type": "code",
      "source": [
        "import hashlib\n",
        "import datetime as date"
      ],
      "metadata": {
        "id": "uYWoouoS-aIF"
      },
      "execution_count": 1,
      "outputs": []
    },
    {
      "cell_type": "markdown",
      "source": [
        "**Step 2: Creating the Block Class**\n",
        "Next, we will create a Block class that will define the structure of each block in the blockchain. Each block will have the following attributes:\n",
        "\n",
        "**Index:** This is the position of the block in the blockchain.\n",
        "**Timestamp:** This is the time at which the block was added to the chain.\n",
        "**Data:** This is the data that is stored in the block.\n",
        "**Previous Hash:** This is the cryptographic hash of the previous block in the chain.\n",
        "**Hash:** This is the cryptographic hash of the current block."
      ],
      "metadata": {
        "id": "j1GUgl9P-dy3"
      }
    },
    {
      "cell_type": "code",
      "source": [
        "class Block:\n",
        "    def __init__(self, index, timestamp, data, previous_hash):\n",
        "        self.index = index\n",
        "        self.timestamp = timestamp\n",
        "        self.data = data\n",
        "        self.previous_hash = previous_hash\n",
        "        self.hash = self.calculate_hash()\n",
        "\n",
        "    def calculate_hash(self):\n",
        "        hash_string = str(self.index) + str(self.timestamp) + str(self.data) + str(self.previous_hash)\n",
        "        return hashlib.sha256(hash_string.encode()).hexdigest()"
      ],
      "metadata": {
        "id": "muklqdZV-uTQ"
      },
      "execution_count": 2,
      "outputs": []
    },
    {
      "cell_type": "markdown",
      "source": [
        "**Step 3: Creating the Blockchain Class**\n",
        "Now, we will create a Blockchain class that will define the structure of the blockchain. Each blockchain will have the following attributes:\n",
        "\n",
        "**Chain:** This is the list of blocks in the blockchain."
      ],
      "metadata": {
        "id": "AsdqsJqO_B7g"
      }
    },
    {
      "cell_type": "code",
      "source": [
        "class Blockchain:\n",
        "    def __init__(self):\n",
        "        self.chain = [self.create_genesis_block()]\n",
        "\n",
        "    def create_genesis_block(self):\n",
        "        return Block(0, date.datetime.now(), \"Genesis Block\", \"0\")\n",
        "\n",
        "    def get_latest_block(self):\n",
        "        return self.chain[-1]\n",
        "\n",
        "    def add_block(self, new_block):\n",
        "        new_block.previous_hash = self.get_latest_block().hash\n",
        "        new_block.hash = new_block.calculate_hash()\n",
        "        self.chain.append(new_block)\n",
        "\n",
        "    def is_valid(self):\n",
        "        for i in range(1, len(self.chain)):\n",
        "            current_block = self.chain[i]\n",
        "            previous_block = self.chain[i-1]\n",
        "\n",
        "            if current_block.hash != current_block.calculate_hash():\n",
        "                return False\n",
        "\n",
        "            if current_block.previous_hash != previous_block.hash:\n",
        "                return False\n",
        "\n",
        "        return True"
      ],
      "metadata": {
        "id": "Aid2G3oU_K3-"
      },
      "execution_count": 3,
      "outputs": []
    },
    {
      "cell_type": "markdown",
      "source": [
        "**Step 4: Testing the Blockchain**\n",
        "Now that we have defined the Block and Blockchain classes, let’s test our blockchain by creating some blocks and adding them to the chain."
      ],
      "metadata": {
        "id": "Uuy0teaY_T_-"
      }
    },
    {
      "cell_type": "code",
      "source": [
        "# Create the blockchain\n",
        "blockchain = Blockchain()\n",
        "\n",
        "# Add blocks to the blockchain\n",
        "blockchain.add_block(Block(1, date.datetime.now(), \"Transaction Data 1\", \"\"))\n",
        "blockchain.add_block(Block(2, date.datetime.now(), \"Transaction Data 2\", \"\"))\n",
        "blockchain.add_block(Block(3, date.datetime.now(), \"Transaction Data 3\", \"\"))\n",
        "\n",
        "# Print the contents of the blockchain\n",
        "for block in blockchain.chain:\n",
        "    print(\"Block #\" + str(block.index))\n",
        "    print(\"Timestamp: \" + str(block.timestamp))\n",
        "    print(\"Data: \" + block.data)\n",
        "    print(\"Hash: \" + block.hash)\n",
        "    print(\"Previous Hash: \" + block.previous_hash)\n",
        "    print(\"\\n\")"
      ],
      "metadata": {
        "colab": {
          "base_uri": "https://localhost:8080/"
        },
        "id": "-8DkZN4m_aUp",
        "outputId": "8456e10c-53b1-4402-ea84-1dedec261170"
      },
      "execution_count": 4,
      "outputs": [
        {
          "output_type": "stream",
          "name": "stdout",
          "text": [
            "Block #0\n",
            "Timestamp: 2024-09-11 16:50:01.997112\n",
            "Data: Genesis Block\n",
            "Hash: 5e825dfffa8136c782238e6656c9d0c225aa36e0d8f0fc8d67cb8e5b46036d56\n",
            "Previous Hash: 0\n",
            "\n",
            "\n",
            "Block #1\n",
            "Timestamp: 2024-09-11 16:50:01.997244\n",
            "Data: Transaction Data 1\n",
            "Hash: 72b4e45fd1b4116e155cbce0555cbaf1021daa96d45482e41f42f5b975d28e04\n",
            "Previous Hash: 5e825dfffa8136c782238e6656c9d0c225aa36e0d8f0fc8d67cb8e5b46036d56\n",
            "\n",
            "\n",
            "Block #2\n",
            "Timestamp: 2024-09-11 16:50:01.997336\n",
            "Data: Transaction Data 2\n",
            "Hash: dbac3e760e29108d2b6f6e94ba59ca81ce6922642a9454c598b5dc92c901bf03\n",
            "Previous Hash: 72b4e45fd1b4116e155cbce0555cbaf1021daa96d45482e41f42f5b975d28e04\n",
            "\n",
            "\n",
            "Block #3\n",
            "Timestamp: 2024-09-11 16:50:01.997414\n",
            "Data: Transaction Data 3\n",
            "Hash: b7501793c0fa13a232da99b07dc689a91a9e91dbe4b3d91ba09633435290a7ac\n",
            "Previous Hash: dbac3e760e29108d2b6f6e94ba59ca81ce6922642a9454c598b5dc92c901bf03\n",
            "\n",
            "\n"
          ]
        }
      ]
    },
    {
      "cell_type": "markdown",
      "source": [
        "**As we can see, the blockchain has been successfully created and we have added some blocks to it. The hash of each block is based on the data of the block and the hash of the previous block, which ensures the integrity and security of the blockchain.**"
      ],
      "metadata": {
        "id": "q1XE4ZuV_hJ3"
      }
    },
    {
      "cell_type": "markdown",
      "source": [],
      "metadata": {
        "id": "DLrHKMW7-QPU"
      }
    },
    {
      "cell_type": "markdown",
      "source": [],
      "metadata": {
        "id": "gn6tWplp_qel"
      }
    }
  ]
}